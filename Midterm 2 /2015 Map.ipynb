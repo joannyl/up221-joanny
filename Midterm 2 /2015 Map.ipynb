{
 "cells": [
  {
   "cell_type": "code",
   "execution_count": 7,
   "id": "6ebeaa77-7ec2-482a-a432-beedb10742ee",
   "metadata": {},
   "outputs": [],
   "source": [
    "import pandas as pd\n",
    "import geopandas as gpd"
   ]
  },
  {
   "cell_type": "code",
   "execution_count": 8,
   "id": "12d149a3-6709-4597-84bf-0572311f1e79",
   "metadata": {},
   "outputs": [],
   "source": [
    "pedes = gpd.read_file('Colision_2015.csv')"
   ]
  },
  {
   "cell_type": "code",
   "execution_count": 9,
   "id": "103ca8a7-57da-4a92-96a3-683d0e5cc25e",
   "metadata": {},
   "outputs": [
    {
     "data": {
      "text/plain": [
       "geopandas.geodataframe.GeoDataFrame"
      ]
     },
     "execution_count": 9,
     "metadata": {},
     "output_type": "execute_result"
    }
   ],
   "source": [
    "# what type of data is it?\n",
    "type (pedes)"
   ]
  },
  {
   "cell_type": "code",
   "execution_count": 10,
   "id": "f89bf753-05c3-454f-a8fc-d33a6fb2ddb6",
   "metadata": {},
   "outputs": [
    {
     "name": "stdout",
     "output_type": "stream",
     "text": [
      "<class 'geopandas.geodataframe.GeoDataFrame'>\n",
      "RangeIndex: 563 entries, 0 to 562\n",
      "Data columns (total 6 columns):\n",
      " #   Column     Non-Null Count  Dtype   \n",
      "---  ------     --------------  -----   \n",
      " 0   Primary    563 non-null    object  \n",
      " 1   Secondary  563 non-null    object  \n",
      " 2   Address    563 non-null    object  \n",
      " 3   LAT        563 non-null    object  \n",
      " 4   LON        563 non-null    object  \n",
      " 5   geometry   0 non-null      geometry\n",
      "dtypes: geometry(1), object(5)\n",
      "memory usage: 26.5+ KB\n"
     ]
    }
   ],
   "source": [
    "pedes.info()"
   ]
  },
  {
   "cell_type": "code",
   "execution_count": 13,
   "id": "6818cbfe-fff7-4e1e-840f-7ff3444f269d",
   "metadata": {},
   "outputs": [],
   "source": [
    "df = gpd.read_file('Colision_2015.csv')"
   ]
  },
  {
   "cell_type": "code",
   "execution_count": 14,
   "id": "3e65fa13-2345-4267-8d8a-721a72ff15e6",
   "metadata": {},
   "outputs": [],
   "source": [
    "df['LAT'] = pd.to_numeric(df['LAT'])\n",
    "df['LON'] = pd.to_numeric(df['LON'])"
   ]
  },
  {
   "cell_type": "code",
   "execution_count": 15,
   "id": "95969999-0bdd-4341-86d8-95973f09f8ab",
   "metadata": {},
   "outputs": [
    {
     "name": "stdout",
     "output_type": "stream",
     "text": [
      "<class 'geopandas.geodataframe.GeoDataFrame'>\n",
      "RangeIndex: 563 entries, 0 to 562\n",
      "Data columns (total 6 columns):\n",
      " #   Column     Non-Null Count  Dtype   \n",
      "---  ------     --------------  -----   \n",
      " 0   Primary    563 non-null    object  \n",
      " 1   Secondary  563 non-null    object  \n",
      " 2   Address    563 non-null    object  \n",
      " 3   LAT        563 non-null    float64 \n",
      " 4   LON        563 non-null    float64 \n",
      " 5   geometry   0 non-null      geometry\n",
      "dtypes: float64(2), geometry(1), object(3)\n",
      "memory usage: 26.5+ KB\n"
     ]
    }
   ],
   "source": [
    "df.info()"
   ]
  },
  {
   "cell_type": "code",
   "execution_count": 16,
   "id": "cb4c4454-03e9-436f-a427-7a80b4d3a42f",
   "metadata": {},
   "outputs": [],
   "source": [
    "import matplotlib.pyplot as plt\n",
    "\n",
    "import contextily as ctx"
   ]
  },
  {
   "cell_type": "code",
   "execution_count": 17,
   "id": "af363864-7a5e-4553-a6a2-37867be25d45",
   "metadata": {},
   "outputs": [],
   "source": [
    "df['LAT'] = pd.to_numeric(df['LAT'])\n",
    "df['LON'] = pd.to_numeric(df['LON'])"
   ]
  },
  {
   "cell_type": "code",
   "execution_count": 18,
   "id": "ca237bc8-08a8-4b19-9b4a-75639859851d",
   "metadata": {},
   "outputs": [],
   "source": [
    "# convert df to gdf\n",
    "# since data is in lat/lon's assign the crs to WGS84 (epsg:4326)\n",
    "gdf = gpd.GeoDataFrame(df, \n",
    "                       crs='epsg:4326',\n",
    "                       geometry=gpd.points_from_xy(df.LON, df.LAT))"
   ]
  },
  {
   "cell_type": "code",
   "execution_count": 19,
   "id": "5d73394a-2664-4f2d-94d7-84522801c408",
   "metadata": {},
   "outputs": [
    {
     "data": {
      "text/plain": [
       "<Geographic 2D CRS: EPSG:4326>\n",
       "Name: WGS 84\n",
       "Axis Info [ellipsoidal]:\n",
       "- Lat[north]: Geodetic latitude (degree)\n",
       "- Lon[east]: Geodetic longitude (degree)\n",
       "Area of Use:\n",
       "- name: World.\n",
       "- bounds: (-180.0, -90.0, 180.0, 90.0)\n",
       "Datum: World Geodetic System 1984 ensemble\n",
       "- Ellipsoid: WGS 84\n",
       "- Prime Meridian: Greenwich"
      ]
     },
     "execution_count": 19,
     "metadata": {},
     "output_type": "execute_result"
    }
   ],
   "source": [
    "# output the data's projection\n",
    "gdf.crs"
   ]
  },
  {
   "cell_type": "code",
   "execution_count": null,
   "id": "534cdc20-3d22-4aac-b782-605c33f39dcc",
   "metadata": {},
   "outputs": [],
   "source": [
    "# start the plot\n",
    "fig, ax = plt.subplots(figsize=(12,12))\n",
    "\n",
    "# add the data options\n",
    "gdf.plot(ax=ax, \n",
    "        marker='X',\n",
    "        markersize=10,\n",
    "        color='red')\n",
    "\n",
    "# turn the axes off\n",
    "ax.axis('off')\n",
    "\n",
    "# give it a title\n",
    "ax.set_title('Pedestrian involved collisions in 2015')\n",
    "\n",
    "# add a basemap\n",
    "ctx.add_basemap(ax, crs=4326) # note that we must specify the projection here (crs)"
   ]
  },
  {
   "cell_type": "code",
   "execution_count": null,
   "id": "ea7ae47d-865e-4f8e-982a-e1f0999d66d7",
   "metadata": {},
   "outputs": [],
   "source": []
  }
 ],
 "metadata": {
  "kernelspec": {
   "display_name": "Python 3 (ipykernel)",
   "language": "python",
   "name": "python3"
  },
  "language_info": {
   "codemirror_mode": {
    "name": "ipython",
    "version": 3
   },
   "file_extension": ".py",
   "mimetype": "text/x-python",
   "name": "python",
   "nbconvert_exporter": "python",
   "pygments_lexer": "ipython3",
   "version": "3.10.8"
  }
 },
 "nbformat": 4,
 "nbformat_minor": 5
}
