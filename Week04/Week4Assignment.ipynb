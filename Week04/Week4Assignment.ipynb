{
 "cells": [
  {
   "cell_type": "markdown",
   "id": "e9f35375-7550-4d9c-8cfb-0fcb3a14b0f1",
   "metadata": {},
   "source": [
    "# Week 4 Individual Coding Assignment #8"
   ]
  },
  {
   "cell_type": "markdown",
   "id": "e613d676-8f3c-473e-b09a-c12dd6732e7c",
   "metadata": {},
   "source": [
    "## Prepping 2015 census collision data. "
   ]
  },
  {
   "cell_type": "code",
   "execution_count": 1,
   "id": "2bb71235-4740-4db5-89dd-217b68928200",
   "metadata": {},
   "outputs": [],
   "source": [
    "#Importing geopanda libraries \n",
    "\n",
    "import pandas as pd\n",
    "import geopandas as gpd"
   ]
  },
  {
   "cell_type": "code",
   "execution_count": 4,
   "id": "f6bb34d8-f9e0-4e33-aac6-507ddb5e3962",
   "metadata": {},
   "outputs": [],
   "source": [
    "#Importing data\n",
    "\n",
    "pedes = gpd.read_file('Colision_2015.csv')"
   ]
  },
  {
   "cell_type": "code",
   "execution_count": 5,
   "id": "2f51599c-b3c0-456e-b920-1a4d71584049",
   "metadata": {},
   "outputs": [
    {
     "data": {
      "text/plain": [
       "geopandas.geodataframe.GeoDataFrame"
      ]
     },
     "execution_count": 5,
     "metadata": {},
     "output_type": "execute_result"
    }
   ],
   "source": [
    "# Checking it's the correct data I need to work with\n",
    "\n",
    "type (pedes)"
   ]
  },
  {
   "cell_type": "code",
   "execution_count": 6,
   "id": "01189e87-be44-4a64-995a-e2441fed4805",
   "metadata": {},
   "outputs": [
    {
     "data": {
      "text/html": [
       "<div>\n",
       "<style scoped>\n",
       "    .dataframe tbody tr th:only-of-type {\n",
       "        vertical-align: middle;\n",
       "    }\n",
       "\n",
       "    .dataframe tbody tr th {\n",
       "        vertical-align: top;\n",
       "    }\n",
       "\n",
       "    .dataframe thead th {\n",
       "        text-align: right;\n",
       "    }\n",
       "</style>\n",
       "<table border=\"1\" class=\"dataframe\">\n",
       "  <thead>\n",
       "    <tr style=\"text-align: right;\">\n",
       "      <th></th>\n",
       "      <th>Primary</th>\n",
       "      <th>Secondary</th>\n",
       "      <th>Address</th>\n",
       "      <th>LAT</th>\n",
       "      <th>LON</th>\n",
       "      <th>geometry</th>\n",
       "    </tr>\n",
       "  </thead>\n",
       "  <tbody>\n",
       "    <tr>\n",
       "      <th>0</th>\n",
       "      <td>RT 138</td>\n",
       "      <td>10TH ST EAST</td>\n",
       "      <td>RT 138 and 10TH ST EAST</td>\n",
       "      <td>34.5795074</td>\n",
       "      <td>-118.1118505</td>\n",
       "      <td>None</td>\n",
       "    </tr>\n",
       "    <tr>\n",
       "      <th>1</th>\n",
       "      <td>RT 1</td>\n",
       "      <td>RAMIREZ MESA RD</td>\n",
       "      <td>RT 1 and RAMIREZ MESA RD</td>\n",
       "      <td>34.0220686</td>\n",
       "      <td>-118.7914193</td>\n",
       "      <td>None</td>\n",
       "    </tr>\n",
       "    <tr>\n",
       "      <th>2</th>\n",
       "      <td>DEL AMO BL</td>\n",
       "      <td>AVALON BL</td>\n",
       "      <td>DEL AMO BL and AVALON BL</td>\n",
       "      <td>33.8474791</td>\n",
       "      <td>-118.2646451</td>\n",
       "      <td>None</td>\n",
       "    </tr>\n",
       "    <tr>\n",
       "      <th>3</th>\n",
       "      <td>RT 19</td>\n",
       "      <td>MAYNE ST</td>\n",
       "      <td>RT 19 and MAYNE ST</td>\n",
       "      <td>33.88571175</td>\n",
       "      <td>-118.1360849</td>\n",
       "      <td>None</td>\n",
       "    </tr>\n",
       "    <tr>\n",
       "      <th>4</th>\n",
       "      <td>ORCHARD VILLAGE RD</td>\n",
       "      <td>VIA GAVOLA</td>\n",
       "      <td>ORCHARD VILLAGE RD and VIA GAVOLA</td>\n",
       "      <td>34.3944009</td>\n",
       "      <td>-118.5516033</td>\n",
       "      <td>None</td>\n",
       "    </tr>\n",
       "  </tbody>\n",
       "</table>\n",
       "</div>"
      ],
      "text/plain": [
       "              Primary        Secondary                            Address  \\\n",
       "0              RT 138     10TH ST EAST            RT 138 and 10TH ST EAST   \n",
       "1                RT 1  RAMIREZ MESA RD           RT 1 and RAMIREZ MESA RD   \n",
       "2          DEL AMO BL        AVALON BL           DEL AMO BL and AVALON BL   \n",
       "3               RT 19         MAYNE ST                 RT 19 and MAYNE ST   \n",
       "4  ORCHARD VILLAGE RD       VIA GAVOLA  ORCHARD VILLAGE RD and VIA GAVOLA   \n",
       "\n",
       "           LAT           LON geometry  \n",
       "0   34.5795074  -118.1118505     None  \n",
       "1   34.0220686  -118.7914193     None  \n",
       "2   33.8474791  -118.2646451     None  \n",
       "3  33.88571175  -118.1360849     None  \n",
       "4   34.3944009  -118.5516033     None  "
      ]
     },
     "execution_count": 6,
     "metadata": {},
     "output_type": "execute_result"
    }
   ],
   "source": [
    "# top 5 \n",
    "pedes.head ()"
   ]
  },
  {
   "cell_type": "code",
   "execution_count": 7,
   "id": "c79584ef-a8c2-4f0a-993d-9610d666c092",
   "metadata": {},
   "outputs": [
    {
     "data": {
      "text/plain": [
       "Primary        object\n",
       "Secondary      object\n",
       "Address        object\n",
       "LAT            object\n",
       "LON            object\n",
       "geometry     geometry\n",
       "dtype: object"
      ]
     },
     "execution_count": 7,
     "metadata": {},
     "output_type": "execute_result"
    }
   ],
   "source": [
    "pedes.dtypes"
   ]
  },
  {
   "cell_type": "code",
   "execution_count": 8,
   "id": "fdf35825-0be7-4276-8fe4-1ebcb1a393c7",
   "metadata": {},
   "outputs": [
    {
     "name": "stdout",
     "output_type": "stream",
     "text": [
      "<class 'geopandas.geodataframe.GeoDataFrame'>\n",
      "RangeIndex: 563 entries, 0 to 562\n",
      "Data columns (total 6 columns):\n",
      " #   Column     Non-Null Count  Dtype   \n",
      "---  ------     --------------  -----   \n",
      " 0   Primary    563 non-null    object  \n",
      " 1   Secondary  563 non-null    object  \n",
      " 2   Address    563 non-null    object  \n",
      " 3   LAT        563 non-null    object  \n",
      " 4   LON        563 non-null    object  \n",
      " 5   geometry   0 non-null      geometry\n",
      "dtypes: geometry(1), object(5)\n",
      "memory usage: 26.5+ KB\n"
     ]
    }
   ],
   "source": [
    "# dataframe info. Latitude and longitude are objects so will have to convert to string later to be able to map. \n",
    "pedes.info()"
   ]
  },
  {
   "cell_type": "markdown",
   "id": "ad22e82f-2730-424a-a849-e2146f85daa6",
   "metadata": {},
   "source": [
    "### What data are we working with?"
   ]
  },
  {
   "cell_type": "code",
   "execution_count": 9,
   "id": "a605dd87-2f5e-4a54-bc58-823571634a32",
   "metadata": {},
   "outputs": [
    {
     "data": {
      "text/plain": [
       "(563, 6)"
      ]
     },
     "execution_count": 9,
     "metadata": {},
     "output_type": "execute_result"
    }
   ],
   "source": [
    "# how many rows and columns?\n",
    "pedes.shape"
   ]
  },
  {
   "cell_type": "code",
   "execution_count": 10,
   "id": "e4ea1ad4-31ba-41b3-8e39-d14b71f7fdcd",
   "metadata": {},
   "outputs": [
    {
     "data": {
      "text/html": [
       "<div>\n",
       "<style scoped>\n",
       "    .dataframe tbody tr th:only-of-type {\n",
       "        vertical-align: middle;\n",
       "    }\n",
       "\n",
       "    .dataframe tbody tr th {\n",
       "        vertical-align: top;\n",
       "    }\n",
       "\n",
       "    .dataframe thead th {\n",
       "        text-align: right;\n",
       "    }\n",
       "</style>\n",
       "<table border=\"1\" class=\"dataframe\">\n",
       "  <thead>\n",
       "    <tr style=\"text-align: right;\">\n",
       "      <th></th>\n",
       "      <th>Primary</th>\n",
       "      <th>Secondary</th>\n",
       "      <th>Address</th>\n",
       "      <th>LAT</th>\n",
       "      <th>LON</th>\n",
       "      <th>geometry</th>\n",
       "    </tr>\n",
       "  </thead>\n",
       "  <tbody>\n",
       "    <tr>\n",
       "      <th>0</th>\n",
       "      <td>RT 138</td>\n",
       "      <td>10TH ST EAST</td>\n",
       "      <td>RT 138 and 10TH ST EAST</td>\n",
       "      <td>34.5795074</td>\n",
       "      <td>-118.1118505</td>\n",
       "      <td>None</td>\n",
       "    </tr>\n",
       "    <tr>\n",
       "      <th>1</th>\n",
       "      <td>RT 1</td>\n",
       "      <td>RAMIREZ MESA RD</td>\n",
       "      <td>RT 1 and RAMIREZ MESA RD</td>\n",
       "      <td>34.0220686</td>\n",
       "      <td>-118.7914193</td>\n",
       "      <td>None</td>\n",
       "    </tr>\n",
       "    <tr>\n",
       "      <th>2</th>\n",
       "      <td>DEL AMO BL</td>\n",
       "      <td>AVALON BL</td>\n",
       "      <td>DEL AMO BL and AVALON BL</td>\n",
       "      <td>33.8474791</td>\n",
       "      <td>-118.2646451</td>\n",
       "      <td>None</td>\n",
       "    </tr>\n",
       "    <tr>\n",
       "      <th>3</th>\n",
       "      <td>RT 19</td>\n",
       "      <td>MAYNE ST</td>\n",
       "      <td>RT 19 and MAYNE ST</td>\n",
       "      <td>33.88571175</td>\n",
       "      <td>-118.1360849</td>\n",
       "      <td>None</td>\n",
       "    </tr>\n",
       "    <tr>\n",
       "      <th>4</th>\n",
       "      <td>ORCHARD VILLAGE RD</td>\n",
       "      <td>VIA GAVOLA</td>\n",
       "      <td>ORCHARD VILLAGE RD and VIA GAVOLA</td>\n",
       "      <td>34.3944009</td>\n",
       "      <td>-118.5516033</td>\n",
       "      <td>None</td>\n",
       "    </tr>\n",
       "  </tbody>\n",
       "</table>\n",
       "</div>"
      ],
      "text/plain": [
       "              Primary        Secondary                            Address  \\\n",
       "0              RT 138     10TH ST EAST            RT 138 and 10TH ST EAST   \n",
       "1                RT 1  RAMIREZ MESA RD           RT 1 and RAMIREZ MESA RD   \n",
       "2          DEL AMO BL        AVALON BL           DEL AMO BL and AVALON BL   \n",
       "3               RT 19         MAYNE ST                 RT 19 and MAYNE ST   \n",
       "4  ORCHARD VILLAGE RD       VIA GAVOLA  ORCHARD VILLAGE RD and VIA GAVOLA   \n",
       "\n",
       "           LAT           LON geometry  \n",
       "0   34.5795074  -118.1118505     None  \n",
       "1   34.0220686  -118.7914193     None  \n",
       "2   33.8474791  -118.2646451     None  \n",
       "3  33.88571175  -118.1360849     None  \n",
       "4   34.3944009  -118.5516033     None  "
      ]
     },
     "execution_count": 10,
     "metadata": {},
     "output_type": "execute_result"
    }
   ],
   "source": [
    "# top 5 \n",
    "pedes.head ()"
   ]
  },
  {
   "cell_type": "code",
   "execution_count": 11,
   "id": "1e5d9923-e20d-42b1-bcc8-d2b3a8fb002c",
   "metadata": {},
   "outputs": [
    {
     "data": {
      "text/plain": [
       "['Primary', 'Secondary', 'Address', 'LAT', 'LON', 'geometry']"
      ]
     },
     "execution_count": 11,
     "metadata": {},
     "output_type": "execute_result"
    }
   ],
   "source": [
    "# what are the columns?\n",
    "pedes.columns.to_list()"
   ]
  },
  {
   "cell_type": "code",
   "execution_count": 12,
   "id": "88d912d1-373f-41f5-9bd1-ffa5aecb95b1",
   "metadata": {},
   "outputs": [
    {
     "data": {
      "text/plain": [
       "33.8656254    3\n",
       "34.6901946    3\n",
       "34.6894733    3\n",
       "33.8250985    3\n",
       "34.4132761    3\n",
       "             ..\n",
       "33.936031     1\n",
       "33.8459628    1\n",
       "33.8659087    1\n",
       "33.8994746    1\n",
       "33.8784906    1\n",
       "Name: LAT, Length: 492, dtype: int64"
      ]
     },
     "execution_count": 12,
     "metadata": {},
     "output_type": "execute_result"
    }
   ],
   "source": [
    "pedes['LAT'].value_counts()"
   ]
  },
  {
   "cell_type": "markdown",
   "id": "8fb59e06-4ced-469c-9446-297e483f9aa8",
   "metadata": {},
   "source": [
    "### Prep Data"
   ]
  },
  {
   "cell_type": "code",
   "execution_count": 13,
   "id": "22fcad74-5aed-4ed2-9518-788260d96834",
   "metadata": {},
   "outputs": [
    {
     "name": "stdout",
     "output_type": "stream",
     "text": [
      "<class 'geopandas.geodataframe.GeoDataFrame'>\n",
      "RangeIndex: 563 entries, 0 to 562\n",
      "Data columns (total 6 columns):\n",
      " #   Column     Non-Null Count  Dtype   \n",
      "---  ------     --------------  -----   \n",
      " 0   Primary    563 non-null    object  \n",
      " 1   Secondary  563 non-null    object  \n",
      " 2   Address    563 non-null    object  \n",
      " 3   LAT        563 non-null    object  \n",
      " 4   LON        563 non-null    object  \n",
      " 5   geometry   0 non-null      geometry\n",
      "dtypes: geometry(1), object(5)\n",
      "memory usage: 26.5+ KB\n"
     ]
    }
   ],
   "source": [
    "# output the original data's info\n",
    "pedes.info()"
   ]
  },
  {
   "cell_type": "code",
   "execution_count": 14,
   "id": "49f32ac4-7cc9-4bd9-8759-908c785125dd",
   "metadata": {},
   "outputs": [],
   "source": [
    "df = gpd.read_file('Colision_2015.csv')"
   ]
  },
  {
   "cell_type": "code",
   "execution_count": 15,
   "id": "09b9d6be-c650-49fe-96b0-9f004e7c6354",
   "metadata": {},
   "outputs": [],
   "source": [
    "df['LAT'] = pd.to_numeric(df['LAT'])\n",
    "df['LON'] = pd.to_numeric(df['LON'])"
   ]
  },
  {
   "cell_type": "code",
   "execution_count": 16,
   "id": "efe5e6d9-8131-4c8b-a9d5-5fc37461bc85",
   "metadata": {},
   "outputs": [
    {
     "name": "stdout",
     "output_type": "stream",
     "text": [
      "<class 'geopandas.geodataframe.GeoDataFrame'>\n",
      "RangeIndex: 563 entries, 0 to 562\n",
      "Data columns (total 6 columns):\n",
      " #   Column     Non-Null Count  Dtype   \n",
      "---  ------     --------------  -----   \n",
      " 0   Primary    563 non-null    object  \n",
      " 1   Secondary  563 non-null    object  \n",
      " 2   Address    563 non-null    object  \n",
      " 3   LAT        563 non-null    float64 \n",
      " 4   LON        563 non-null    float64 \n",
      " 5   geometry   0 non-null      geometry\n",
      "dtypes: float64(2), geometry(1), object(3)\n",
      "memory usage: 26.5+ KB\n"
     ]
    }
   ],
   "source": [
    "# LAT and LON are now float64\n",
    "df.info()"
   ]
  },
  {
   "cell_type": "markdown",
   "id": "b7af38af-eafd-42c5-a661-91051af8c695",
   "metadata": {},
   "source": [
    "### Attempt at Mapping"
   ]
  },
  {
   "cell_type": "code",
   "execution_count": 17,
   "id": "e3485579-71e6-4809-8ade-4874b0a07244",
   "metadata": {},
   "outputs": [],
   "source": [
    "# importing more libraries\n",
    "\n",
    "import matplotlib.pyplot as plt\n",
    "\n",
    "import contextily as ctx"
   ]
  },
  {
   "cell_type": "code",
   "execution_count": 18,
   "id": "3896efc7-6f6d-42c3-bcf7-fc8c080c106d",
   "metadata": {},
   "outputs": [],
   "source": [
    "df['LAT'] = pd.to_numeric(df['LAT'])\n",
    "df['LON'] = pd.to_numeric(df['LON'])"
   ]
  },
  {
   "cell_type": "code",
   "execution_count": 19,
   "id": "1d51e3be-39e6-48e2-82e5-f7feab6bb362",
   "metadata": {},
   "outputs": [],
   "source": [
    "# convert df to gdf\n",
    "# since data is in lat/lon's assign the crs to WGS84 (epsg:4326)\n",
    "gdf = gpd.GeoDataFrame(df, \n",
    "                       crs='epsg:4326',\n",
    "                       geometry=gpd.points_from_xy(df.LON, df.LAT))"
   ]
  },
  {
   "cell_type": "code",
   "execution_count": 20,
   "id": "3976cc38-6d56-48e4-b276-aa8741277828",
   "metadata": {},
   "outputs": [
    {
     "data": {
      "text/plain": [
       "<Geographic 2D CRS: EPSG:4326>\n",
       "Name: WGS 84\n",
       "Axis Info [ellipsoidal]:\n",
       "- Lat[north]: Geodetic latitude (degree)\n",
       "- Lon[east]: Geodetic longitude (degree)\n",
       "Area of Use:\n",
       "- name: World.\n",
       "- bounds: (-180.0, -90.0, 180.0, 90.0)\n",
       "Datum: World Geodetic System 1984 ensemble\n",
       "- Ellipsoid: WGS 84\n",
       "- Prime Meridian: Greenwich"
      ]
     },
     "execution_count": 20,
     "metadata": {},
     "output_type": "execute_result"
    }
   ],
   "source": [
    "# output the data's projection\n",
    "gdf.crs"
   ]
  },
  {
   "cell_type": "code",
   "execution_count": 21,
   "id": "2e932bce-77c4-484b-bd6c-d2d03318d56b",
   "metadata": {},
   "outputs": [
    {
     "data": {
      "image/png": "[encoded data removed]",
      "text/plain": [
       "<Figure size 1200x1200 with 1 Axes>"
      ]
     },
     "metadata": {},
     "output_type": "display_data"
    }
   ],
   "source": [
    "# start the plot\n",
    "fig, ax = plt.subplots(figsize=(12,12))\n",
    "\n",
    "# add the data options\n",
    "gdf.plot(ax=ax, \n",
    "        marker='X',\n",
    "        markersize=10,\n",
    "        color='red')\n",
    "\n",
    "# turn the axes off\n",
    "ax.axis('off')\n",
    "\n",
    "# give it a title\n",
    "ax.set_title('Pedestrian involved collisions in 2015')\n",
    "\n",
    "# add a basemap\n",
    "ctx.add_basemap(ax, crs=4326) # note that we must specify the projection here (crs)"
   ]
  },
  {
   "cell_type": "markdown",
   "id": "2dbb6b72-47be-49d0-b06b-05062ee21fb1",
   "metadata": {},
   "source": [
    "Tried to map 2015 data but kept getting a kernel dying notification! Unsure if my data is not formatted correctly. Will attempt again. "
   ]
  },
  {
   "cell_type": "code",
   "execution_count": null,
   "id": "209e2e0f-3370-4ccc-8623-689e30a41d13",
   "metadata": {},
   "outputs": [],
   "source": []
  }
 ],
 "metadata": {
  "kernelspec": {
   "display_name": "Python 3 (ipykernel)",
   "language": "python",
   "name": "python3"
  },
  "language_info": {
   "codemirror_mode": {
    "name": "ipython",
    "version": 3
   },
   "file_extension": ".py",
   "mimetype": "text/x-python",
   "name": "python",
   "nbconvert_exporter": "python",
   "pygments_lexer": "ipython3",
   "version": "3.10.8"
  }
 },
 "nbformat": 4,
 "nbformat_minor": 5
}
