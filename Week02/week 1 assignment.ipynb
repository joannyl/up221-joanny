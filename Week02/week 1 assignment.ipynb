{
 "cells": [
  {
   "cell_type": "markdown",
   "id": "f0ab8e99-6e4b-4166-9e76-725dfdc30b7c",
   "metadata": {},
   "source": [
    "## LA County Disadvtaged Communities Data "
   ]
  },
  {
   "cell_type": "markdown",
   "id": "7befc7f8-30c3-4208-967b-540776ec76bc",
   "metadata": {},
   "source": [
    "The data I am using comes from a mapping tool from the Strategic Growth Council. The columns are a few of the indicators to measure a population’s vulnerability to environmental pollutants that the tool uses. The rows are organized by census tracts. "
   ]
  },
  {
   "cell_type": "code",
   "execution_count": 6,
   "id": "5f2e007a-435b-48d3-9b10-93fb00b41756",
   "metadata": {},
   "outputs": [],
   "source": [
    "import pandas as pd\n",
    "import geopandas as gpd "
   ]
  },
  {
   "cell_type": "code",
   "execution_count": 13,
   "id": "256576d2-836f-4f8a-95ad-4241bdb96abe",
   "metadata": {},
   "outputs": [],
   "source": [
    "# read and add file to notebook \n",
    "disadv = gpd.read_file('LA County_CalEnviro.csv')"
   ]
  },
  {
   "cell_type": "code",
   "execution_count": 14,
   "id": "fc09501e-44fb-4c1c-bb95-99fca34e71df",
   "metadata": {},
   "outputs": [
    {
     "data": {
      "text/plain": [
       "geopandas.geodataframe.GeoDataFrame"
      ]
     },
     "execution_count": 14,
     "metadata": {},
     "output_type": "execute_result"
    }
   ],
   "source": [
    "# data type\n",
    "type(disadv)"
   ]
  },
  {
   "cell_type": "markdown",
   "id": "af1194ad-1f54-44f2-8771-84f997c4aa96",
   "metadata": {},
   "source": [
    "Applying the .head command generates the first five rows of data. "
   ]
  },
  {
   "cell_type": "code",
   "execution_count": 17,
   "id": "ec470f88-f466-42ff-a492-7053f150a324",
   "metadata": {},
   "outputs": [
    {
     "data": {
      "text/html": [
       "<div>\n",
       "<style scoped>\n",
       "    .dataframe tbody tr th:only-of-type {\n",
       "        vertical-align: middle;\n",
       "    }\n",
       "\n",
       "    .dataframe tbody tr th {\n",
       "        vertical-align: top;\n",
       "    }\n",
       "\n",
       "    .dataframe thead th {\n",
       "        text-align: right;\n",
       "    }\n",
       "</style>\n",
       "<table border=\"1\" class=\"dataframe\">\n",
       "  <thead>\n",
       "    <tr style=\"text-align: right;\">\n",
       "      <th></th>\n",
       "      <th>OBJECTID</th>\n",
       "      <th>Tract</th>\n",
       "      <th>ZIP</th>\n",
       "      <th>Population</th>\n",
       "      <th>CIscore4</th>\n",
       "      <th>CIscoreP4</th>\n",
       "      <th>Pollution</th>\n",
       "      <th>Pollution Score</th>\n",
       "      <th>Pollution Pctl</th>\n",
       "      <th>Education</th>\n",
       "      <th>...</th>\n",
       "      <th>CES_AnyAnd_AB1550</th>\n",
       "      <th>tracttxt</th>\n",
       "      <th>HTCTop2</th>\n",
       "      <th>HTCTop</th>\n",
       "      <th>HTCTop2_and_CES_DAC</th>\n",
       "      <th>Shape__Area</th>\n",
       "      <th>Shape__Length</th>\n",
       "      <th>x</th>\n",
       "      <th>y</th>\n",
       "      <th>geometry</th>\n",
       "    </tr>\n",
       "  </thead>\n",
       "  <tbody>\n",
       "    <tr>\n",
       "      <th>0</th>\n",
       "      <td>350</td>\n",
       "      <td>6059011601</td>\n",
       "      <td>92832</td>\n",
       "      <td>8430</td>\n",
       "      <td>58.3342528</td>\n",
       "      <td>94.65456379</td>\n",
       "      <td>66.02564908</td>\n",
       "      <td>8.061718638</td>\n",
       "      <td>96.57747355</td>\n",
       "      <td>36.6</td>\n",
       "      <td>...</td>\n",
       "      <td>Yes</td>\n",
       "      <td>6059011601</td>\n",
       "      <td>Yes</td>\n",
       "      <td>Yes</td>\n",
       "      <td>Yes</td>\n",
       "      <td>1164043.2999801636</td>\n",
       "      <td>4473.881317765363</td>\n",
       "      <td></td>\n",
       "      <td></td>\n",
       "      <td>None</td>\n",
       "    </tr>\n",
       "    <tr>\n",
       "      <th>1</th>\n",
       "      <td>351</td>\n",
       "      <td>6059011602</td>\n",
       "      <td>92831</td>\n",
       "      <td>5314</td>\n",
       "      <td>50.19924703</td>\n",
       "      <td>88.07362582</td>\n",
       "      <td>75.82507802</td>\n",
       "      <td>9.258226966</td>\n",
       "      <td>99.68886123</td>\n",
       "      <td>39.4</td>\n",
       "      <td>...</td>\n",
       "      <td>Yes</td>\n",
       "      <td>6059011602</td>\n",
       "      <td>No</td>\n",
       "      <td>No</td>\n",
       "      <td>No</td>\n",
       "      <td>5676727.940940857</td>\n",
       "      <td>11226.571016751655</td>\n",
       "      <td></td>\n",
       "      <td></td>\n",
       "      <td>None</td>\n",
       "    </tr>\n",
       "    <tr>\n",
       "      <th>2</th>\n",
       "      <td>353</td>\n",
       "      <td>6059086602</td>\n",
       "      <td>92801</td>\n",
       "      <td>6447</td>\n",
       "      <td>40.09818091</td>\n",
       "      <td>75.10085729</td>\n",
       "      <td>54.18795481</td>\n",
       "      <td>6.616338519</td>\n",
       "      <td>80.65961419</td>\n",
       "      <td>30.5</td>\n",
       "      <td>...</td>\n",
       "      <td>Yes</td>\n",
       "      <td>6059086602</td>\n",
       "      <td>Yes</td>\n",
       "      <td>No</td>\n",
       "      <td>Yes</td>\n",
       "      <td>1144033.5828475952</td>\n",
       "      <td>4874.110500517352</td>\n",
       "      <td></td>\n",
       "      <td></td>\n",
       "      <td>None</td>\n",
       "    </tr>\n",
       "    <tr>\n",
       "      <th>3</th>\n",
       "      <td>354</td>\n",
       "      <td>6059001103</td>\n",
       "      <td>90631</td>\n",
       "      <td>4594</td>\n",
       "      <td>42.26464242</td>\n",
       "      <td>78.4165406</td>\n",
       "      <td>58.69707076</td>\n",
       "      <td>7.16690068</td>\n",
       "      <td>89.04791537</td>\n",
       "      <td>12.6</td>\n",
       "      <td>...</td>\n",
       "      <td>Yes</td>\n",
       "      <td>6059001103</td>\n",
       "      <td>Yes</td>\n",
       "      <td>No</td>\n",
       "      <td>Yes</td>\n",
       "      <td>1343962.8108901978</td>\n",
       "      <td>5743.268098511966</td>\n",
       "      <td></td>\n",
       "      <td></td>\n",
       "      <td>None</td>\n",
       "    </tr>\n",
       "    <tr>\n",
       "      <th>4</th>\n",
       "      <td>357</td>\n",
       "      <td>6059110402</td>\n",
       "      <td>90620</td>\n",
       "      <td>5588</td>\n",
       "      <td>43.12353276</td>\n",
       "      <td>79.67725668</td>\n",
       "      <td>55.92454056</td>\n",
       "      <td>6.828375294</td>\n",
       "      <td>84.23148724</td>\n",
       "      <td>25.1</td>\n",
       "      <td>...</td>\n",
       "      <td>Yes</td>\n",
       "      <td>6059110402</td>\n",
       "      <td>Yes</td>\n",
       "      <td>No</td>\n",
       "      <td>Yes</td>\n",
       "      <td>1967185.3025665283</td>\n",
       "      <td>6486.5847558197565</td>\n",
       "      <td></td>\n",
       "      <td></td>\n",
       "      <td>None</td>\n",
       "    </tr>\n",
       "  </tbody>\n",
       "</table>\n",
       "<p>5 rows × 48 columns</p>\n",
       "</div>"
      ],
      "text/plain": [
       "  OBJECTID       Tract    ZIP Population     CIscore4    CIscoreP4  \\\n",
       "0      350  6059011601  92832       8430   58.3342528  94.65456379   \n",
       "1      351  6059011602  92831       5314  50.19924703  88.07362582   \n",
       "2      353  6059086602  92801       6447  40.09818091  75.10085729   \n",
       "3      354  6059001103  90631       4594  42.26464242   78.4165406   \n",
       "4      357  6059110402  90620       5588  43.12353276  79.67725668   \n",
       "\n",
       "     Pollution Pollution Score Pollution Pctl Education  ...  \\\n",
       "0  66.02564908     8.061718638    96.57747355      36.6  ...   \n",
       "1  75.82507802     9.258226966    99.68886123      39.4  ...   \n",
       "2  54.18795481     6.616338519    80.65961419      30.5  ...   \n",
       "3  58.69707076      7.16690068    89.04791537      12.6  ...   \n",
       "4  55.92454056     6.828375294    84.23148724      25.1  ...   \n",
       "\n",
       "  CES_AnyAnd_AB1550    tracttxt HTCTop2 HTCTop HTCTop2_and_CES_DAC  \\\n",
       "0               Yes  6059011601     Yes    Yes                 Yes   \n",
       "1               Yes  6059011602      No     No                  No   \n",
       "2               Yes  6059086602     Yes     No                 Yes   \n",
       "3               Yes  6059001103     Yes     No                 Yes   \n",
       "4               Yes  6059110402     Yes     No                 Yes   \n",
       "\n",
       "          Shape__Area       Shape__Length x y geometry  \n",
       "0  1164043.2999801636   4473.881317765363         None  \n",
       "1   5676727.940940857  11226.571016751655         None  \n",
       "2  1144033.5828475952   4874.110500517352         None  \n",
       "3  1343962.8108901978   5743.268098511966         None  \n",
       "4  1967185.3025665283  6486.5847558197565         None  \n",
       "\n",
       "[5 rows x 48 columns]"
      ]
     },
     "execution_count": 17,
     "metadata": {},
     "output_type": "execute_result"
    }
   ],
   "source": [
    "# first five rows of the dataframe\n",
    "disadv.head()"
   ]
  },
  {
   "cell_type": "markdown",
   "id": "47c8da45-e214-4a42-b605-fb3e83789d91",
   "metadata": {},
   "source": [
    "Applying the .tail command generates the last five rows of data"
   ]
  },
  {
   "cell_type": "code",
   "execution_count": 18,
   "id": "9d7386e1-30d2-414d-836f-48ca91c1f046",
   "metadata": {},
   "outputs": [
    {
     "data": {
      "text/html": [
       "<div>\n",
       "<style scoped>\n",
       "    .dataframe tbody tr th:only-of-type {\n",
       "        vertical-align: middle;\n",
       "    }\n",
       "\n",
       "    .dataframe tbody tr th {\n",
       "        vertical-align: top;\n",
       "    }\n",
       "\n",
       "    .dataframe thead th {\n",
       "        text-align: right;\n",
       "    }\n",
       "</style>\n",
       "<table border=\"1\" class=\"dataframe\">\n",
       "  <thead>\n",
       "    <tr style=\"text-align: right;\">\n",
       "      <th></th>\n",
       "      <th>OBJECTID</th>\n",
       "      <th>Tract</th>\n",
       "      <th>ZIP</th>\n",
       "      <th>Population</th>\n",
       "      <th>CIscore4</th>\n",
       "      <th>CIscoreP4</th>\n",
       "      <th>Pollution</th>\n",
       "      <th>Pollution Score</th>\n",
       "      <th>Pollution Pctl</th>\n",
       "      <th>Education</th>\n",
       "      <th>...</th>\n",
       "      <th>CES_AnyAnd_AB1550</th>\n",
       "      <th>tracttxt</th>\n",
       "      <th>HTCTop2</th>\n",
       "      <th>HTCTop</th>\n",
       "      <th>HTCTop2_and_CES_DAC</th>\n",
       "      <th>Shape__Area</th>\n",
       "      <th>Shape__Length</th>\n",
       "      <th>x</th>\n",
       "      <th>y</th>\n",
       "      <th>geometry</th>\n",
       "    </tr>\n",
       "  </thead>\n",
       "  <tbody>\n",
       "    <tr>\n",
       "      <th>1146</th>\n",
       "      <td>8006</td>\n",
       "      <td>6037404402</td>\n",
       "      <td>91702</td>\n",
       "      <td>5156</td>\n",
       "      <td>60.16073797</td>\n",
       "      <td>95.78920827</td>\n",
       "      <td>67.6103407</td>\n",
       "      <td>8.25520917</td>\n",
       "      <td>97.3490977</td>\n",
       "      <td>31.1</td>\n",
       "      <td>...</td>\n",
       "      <td>Yes</td>\n",
       "      <td>6037404402</td>\n",
       "      <td>No</td>\n",
       "      <td>No</td>\n",
       "      <td>No</td>\n",
       "      <td>3366005.127090454</td>\n",
       "      <td>8519.713589205043</td>\n",
       "      <td></td>\n",
       "      <td></td>\n",
       "      <td>None</td>\n",
       "    </tr>\n",
       "    <tr>\n",
       "      <th>1147</th>\n",
       "      <td>8028</td>\n",
       "      <td>6037183810</td>\n",
       "      <td>90042</td>\n",
       "      <td>4163</td>\n",
       "      <td>40.66599</td>\n",
       "      <td>76.096823</td>\n",
       "      <td>44.63739669</td>\n",
       "      <td>5.45021727</td>\n",
       "      <td>55.78095831</td>\n",
       "      <td>32.4</td>\n",
       "      <td>...</td>\n",
       "      <td>Yes</td>\n",
       "      <td>6037183810</td>\n",
       "      <td>Yes</td>\n",
       "      <td>Yes</td>\n",
       "      <td>Yes</td>\n",
       "      <td>455476.49839782715</td>\n",
       "      <td>3121.2237011214365</td>\n",
       "      <td></td>\n",
       "      <td></td>\n",
       "      <td>None</td>\n",
       "    </tr>\n",
       "    <tr>\n",
       "      <th>1148</th>\n",
       "      <td>8032</td>\n",
       "      <td>6037431100</td>\n",
       "      <td>91016</td>\n",
       "      <td>6758</td>\n",
       "      <td>39.69784916</td>\n",
       "      <td>74.50832073</td>\n",
       "      <td>68.86647868</td>\n",
       "      <td>8.408583368</td>\n",
       "      <td>97.88425638</td>\n",
       "      <td>16</td>\n",
       "      <td>...</td>\n",
       "      <td>Yes</td>\n",
       "      <td>6037431100</td>\n",
       "      <td>No</td>\n",
       "      <td>No</td>\n",
       "      <td>No</td>\n",
       "      <td>3015660.558052063</td>\n",
       "      <td>8020.091398159319</td>\n",
       "      <td></td>\n",
       "      <td></td>\n",
       "      <td>None</td>\n",
       "    </tr>\n",
       "    <tr>\n",
       "      <th>1149</th>\n",
       "      <td>8033</td>\n",
       "      <td>6037533603</td>\n",
       "      <td>90201</td>\n",
       "      <td>6986</td>\n",
       "      <td>62.93104397</td>\n",
       "      <td>97.04992436</td>\n",
       "      <td>61.77302569</td>\n",
       "      <td>7.542474167</td>\n",
       "      <td>93.0304916</td>\n",
       "      <td>42.6</td>\n",
       "      <td>...</td>\n",
       "      <td>Yes</td>\n",
       "      <td>6037533603</td>\n",
       "      <td>Yes</td>\n",
       "      <td>Yes</td>\n",
       "      <td>Yes</td>\n",
       "      <td>811895.6298446655</td>\n",
       "      <td>4949.116926225597</td>\n",
       "      <td></td>\n",
       "      <td></td>\n",
       "      <td>None</td>\n",
       "    </tr>\n",
       "    <tr>\n",
       "      <th>1150</th>\n",
       "      <td>8034</td>\n",
       "      <td>6037534101</td>\n",
       "      <td>90201</td>\n",
       "      <td>2358</td>\n",
       "      <td>63.31504786</td>\n",
       "      <td>97.22642461</td>\n",
       "      <td>73.95741684</td>\n",
       "      <td>9.030185907</td>\n",
       "      <td>99.39016801</td>\n",
       "      <td>46</td>\n",
       "      <td>...</td>\n",
       "      <td>Yes</td>\n",
       "      <td>6037534101</td>\n",
       "      <td>Yes</td>\n",
       "      <td>Yes</td>\n",
       "      <td>Yes</td>\n",
       "      <td>509871.7808532715</td>\n",
       "      <td>4420.126713040075</td>\n",
       "      <td></td>\n",
       "      <td></td>\n",
       "      <td>None</td>\n",
       "    </tr>\n",
       "  </tbody>\n",
       "</table>\n",
       "<p>5 rows × 48 columns</p>\n",
       "</div>"
      ],
      "text/plain": [
       "     OBJECTID       Tract    ZIP Population     CIscore4    CIscoreP4  \\\n",
       "1146     8006  6037404402  91702       5156  60.16073797  95.78920827   \n",
       "1147     8028  6037183810  90042       4163     40.66599    76.096823   \n",
       "1148     8032  6037431100  91016       6758  39.69784916  74.50832073   \n",
       "1149     8033  6037533603  90201       6986  62.93104397  97.04992436   \n",
       "1150     8034  6037534101  90201       2358  63.31504786  97.22642461   \n",
       "\n",
       "        Pollution Pollution Score Pollution Pctl Education  ...  \\\n",
       "1146   67.6103407      8.25520917     97.3490977      31.1  ...   \n",
       "1147  44.63739669      5.45021727    55.78095831      32.4  ...   \n",
       "1148  68.86647868     8.408583368    97.88425638        16  ...   \n",
       "1149  61.77302569     7.542474167     93.0304916      42.6  ...   \n",
       "1150  73.95741684     9.030185907    99.39016801        46  ...   \n",
       "\n",
       "     CES_AnyAnd_AB1550    tracttxt HTCTop2 HTCTop HTCTop2_and_CES_DAC  \\\n",
       "1146               Yes  6037404402      No     No                  No   \n",
       "1147               Yes  6037183810     Yes    Yes                 Yes   \n",
       "1148               Yes  6037431100      No     No                  No   \n",
       "1149               Yes  6037533603     Yes    Yes                 Yes   \n",
       "1150               Yes  6037534101     Yes    Yes                 Yes   \n",
       "\n",
       "             Shape__Area       Shape__Length x y geometry  \n",
       "1146   3366005.127090454   8519.713589205043         None  \n",
       "1147  455476.49839782715  3121.2237011214365         None  \n",
       "1148   3015660.558052063   8020.091398159319         None  \n",
       "1149   811895.6298446655   4949.116926225597         None  \n",
       "1150   509871.7808532715   4420.126713040075         None  \n",
       "\n",
       "[5 rows x 48 columns]"
      ]
     },
     "execution_count": 18,
     "metadata": {},
     "output_type": "execute_result"
    }
   ],
   "source": [
    "# last five rows of the dataframe\n",
    "disadv.tail()"
   ]
  },
  {
   "cell_type": "markdown",
   "id": "b4a47548-1b79-41cd-9b05-0d009bbf274c",
   "metadata": {},
   "source": [
    "Applying the .shape command counts the number of rows and columns in your data set"
   ]
  },
  {
   "cell_type": "code",
   "execution_count": 22,
   "id": "3ec5e6cf-d5bd-4e40-9ef8-b708f59eb355",
   "metadata": {},
   "outputs": [
    {
     "data": {
      "text/plain": [
       "(1151, 48)"
      ]
     },
     "execution_count": 22,
     "metadata": {},
     "output_type": "execute_result"
    }
   ],
   "source": [
    "# Count number of rows and columns?\n",
    "metro.shape"
   ]
  },
  {
   "cell_type": "markdown",
   "id": "d5bbb2a1-fe8d-4155-a4f0-a80b8b304c18",
   "metadata": {},
   "source": [
    "The .info command provides the data type for each column. The .dtypes can also be used but .info provides more information."
   ]
  },
  {
   "cell_type": "code",
   "execution_count": 24,
   "id": "680b14f5-31bb-4943-af8f-cdf3780b8326",
   "metadata": {},
   "outputs": [
    {
     "name": "stdout",
     "output_type": "stream",
     "text": [
      "<class 'geopandas.geodataframe.GeoDataFrame'>\n",
      "RangeIndex: 1151 entries, 0 to 1150\n",
      "Data columns (total 48 columns):\n",
      " #   Column                      Non-Null Count  Dtype   \n",
      "---  ------                      --------------  -----   \n",
      " 0   OBJECTID                    1151 non-null   object  \n",
      " 1   Tract                       1151 non-null   object  \n",
      " 2   ZIP                         1151 non-null   object  \n",
      " 3   Population                  1151 non-null   object  \n",
      " 4   CIscore4                    1151 non-null   object  \n",
      " 5   CIscoreP4                   1151 non-null   object  \n",
      " 6   Pollution                   1151 non-null   object  \n",
      " 7   Pollution Score             1151 non-null   object  \n",
      " 8   Pollution Pctl              1151 non-null   object  \n",
      " 9   Education                   1151 non-null   object  \n",
      " 10  Education Pctl              1151 non-null   object  \n",
      " 11  Linguistic Isolation        1151 non-null   object  \n",
      " 12  Linguistic Isolation Pctl   1151 non-null   object  \n",
      " 13  Poverty                     1151 non-null   object  \n",
      " 14  Poverty Pctl                1151 non-null   object  \n",
      " 15  Unemployment                1151 non-null   object  \n",
      " 16  Unemployment Pctl           1151 non-null   object  \n",
      " 17  Housing Burden              1151 non-null   object  \n",
      " 18  Housing Burden Pctl         1151 non-null   object  \n",
      " 19  Pop. Characteristics        1151 non-null   object  \n",
      " 20  Pop. Characteristics Score  1151 non-null   object  \n",
      " 21  Pop. Characteristics Pctl   1151 non-null   object  \n",
      " 22  Child_10                    1151 non-null   object  \n",
      " 23  Pop_10_64                   1151 non-null   object  \n",
      " 24  Elderly_65                  1151 non-null   object  \n",
      " 25  Hispanic                    1151 non-null   object  \n",
      " 26  White                       1151 non-null   object  \n",
      " 27  African_American            1151 non-null   object  \n",
      " 28  Native_American             1151 non-null   object  \n",
      " 29  Asian_American              1151 non-null   object  \n",
      " 30  Pacific_Islander            1151 non-null   object  \n",
      " 31  Other_Multiple              1151 non-null   object  \n",
      " 32  County                      1151 non-null   object  \n",
      " 33  City                        1151 non-null   object  \n",
      " 34  AB1500                      1151 non-null   object  \n",
      " 35  CES3_DAC                    1151 non-null   object  \n",
      " 36  CES4_DAC                    1151 non-null   object  \n",
      " 37  CES_Any_DAC                 1151 non-null   object  \n",
      " 38  CES_AnyAnd_AB1550           1151 non-null   object  \n",
      " 39  tracttxt                    1151 non-null   object  \n",
      " 40  HTCTop2                     1151 non-null   object  \n",
      " 41  HTCTop                      1151 non-null   object  \n",
      " 42  HTCTop2_and_CES_DAC         1151 non-null   object  \n",
      " 43  Shape__Area                 1151 non-null   object  \n",
      " 44  Shape__Length               1151 non-null   object  \n",
      " 45  x                           1151 non-null   object  \n",
      " 46  y                           1151 non-null   object  \n",
      " 47  geometry                    0 non-null      geometry\n",
      "dtypes: geometry(1), object(47)\n",
      "memory usage: 431.8+ KB\n"
     ]
    }
   ],
   "source": [
    "disadv.info()"
   ]
  },
  {
   "cell_type": "markdown",
   "id": "63231c07-d24c-40f6-8312-87030d8d990c",
   "metadata": {},
   "source": [
    "Using the .value_counts command to count the number of census tracts are in each city in the data"
   ]
  },
  {
   "cell_type": "code",
   "execution_count": 41,
   "id": "f1329af0-838c-41a7-92aa-27d68f23aad5",
   "metadata": {},
   "outputs": [
    {
     "data": {
      "text/plain": [
       "Los Angeles             545\n",
       "Long Beach               60\n",
       "East Los Angeles         28\n",
       "El Monte                 25\n",
       "Glendale                 23\n",
       "                       ... \n",
       "Midway City               1\n",
       "Avocado Heights           1\n",
       "Vernon                    1\n",
       "South San Jose Hills      1\n",
       "Monrovia                  1\n",
       "Name: City, Length: 83, dtype: int64"
      ]
     },
     "execution_count": 41,
     "metadata": {},
     "output_type": "execute_result"
    }
   ],
   "source": [
    "disadv['City'].value_counts()"
   ]
  },
  {
   "cell_type": "markdown",
   "id": "4283bf58-2861-4997-bab9-37644a3c5efe",
   "metadata": {},
   "source": [
    "Saving the tract count as a new variable to create some plots "
   ]
  },
  {
   "cell_type": "code",
   "execution_count": 43,
   "id": "e7f07eca-825c-4e1e-840a-62936e7a7809",
   "metadata": {},
   "outputs": [
    {
     "data": {
      "text/plain": [
       "Los Angeles             545\n",
       "Long Beach               60\n",
       "East Los Angeles         28\n",
       "El Monte                 25\n",
       "Glendale                 23\n",
       "                       ... \n",
       "Midway City               1\n",
       "Avocado Heights           1\n",
       "Vernon                    1\n",
       "South San Jose Hills      1\n",
       "Monrovia                  1\n",
       "Name: City, Length: 83, dtype: int64"
      ]
     },
     "execution_count": 43,
     "metadata": {},
     "output_type": "execute_result"
    }
   ],
   "source": [
    "city_count = disadv['City'].value_counts()\n",
    "city_count"
   ]
  },
  {
   "cell_type": "markdown",
   "id": "fe9acc76-583e-4daf-8db7-fffcb35eabb8",
   "metadata": {},
   "source": [
    "Converting the series above into a dataframe to make it easier to read "
   ]
  },
  {
   "cell_type": "code",
   "execution_count": 44,
   "id": "2f0129fc-6447-40e6-896b-e3351730699b",
   "metadata": {},
   "outputs": [
    {
     "data": {
      "text/html": [
       "<div>\n",
       "<style scoped>\n",
       "    .dataframe tbody tr th:only-of-type {\n",
       "        vertical-align: middle;\n",
       "    }\n",
       "\n",
       "    .dataframe tbody tr th {\n",
       "        vertical-align: top;\n",
       "    }\n",
       "\n",
       "    .dataframe thead th {\n",
       "        text-align: right;\n",
       "    }\n",
       "</style>\n",
       "<table border=\"1\" class=\"dataframe\">\n",
       "  <thead>\n",
       "    <tr style=\"text-align: right;\">\n",
       "      <th></th>\n",
       "      <th>index</th>\n",
       "      <th>City</th>\n",
       "    </tr>\n",
       "  </thead>\n",
       "  <tbody>\n",
       "    <tr>\n",
       "      <th>0</th>\n",
       "      <td>Los Angeles</td>\n",
       "      <td>545</td>\n",
       "    </tr>\n",
       "    <tr>\n",
       "      <th>1</th>\n",
       "      <td>Long Beach</td>\n",
       "      <td>60</td>\n",
       "    </tr>\n",
       "    <tr>\n",
       "      <th>2</th>\n",
       "      <td>East Los Angeles</td>\n",
       "      <td>28</td>\n",
       "    </tr>\n",
       "    <tr>\n",
       "      <th>3</th>\n",
       "      <td>El Monte</td>\n",
       "      <td>25</td>\n",
       "    </tr>\n",
       "    <tr>\n",
       "      <th>4</th>\n",
       "      <td>Glendale</td>\n",
       "      <td>23</td>\n",
       "    </tr>\n",
       "    <tr>\n",
       "      <th>...</th>\n",
       "      <td>...</td>\n",
       "      <td>...</td>\n",
       "    </tr>\n",
       "    <tr>\n",
       "      <th>78</th>\n",
       "      <td>Midway City</td>\n",
       "      <td>1</td>\n",
       "    </tr>\n",
       "    <tr>\n",
       "      <th>79</th>\n",
       "      <td>Avocado Heights</td>\n",
       "      <td>1</td>\n",
       "    </tr>\n",
       "    <tr>\n",
       "      <th>80</th>\n",
       "      <td>Vernon</td>\n",
       "      <td>1</td>\n",
       "    </tr>\n",
       "    <tr>\n",
       "      <th>81</th>\n",
       "      <td>South San Jose Hills</td>\n",
       "      <td>1</td>\n",
       "    </tr>\n",
       "    <tr>\n",
       "      <th>82</th>\n",
       "      <td>Monrovia</td>\n",
       "      <td>1</td>\n",
       "    </tr>\n",
       "  </tbody>\n",
       "</table>\n",
       "<p>83 rows × 2 columns</p>\n",
       "</div>"
      ],
      "text/plain": [
       "                   index  City\n",
       "0            Los Angeles   545\n",
       "1             Long Beach    60\n",
       "2       East Los Angeles    28\n",
       "3               El Monte    25\n",
       "4               Glendale    23\n",
       "..                   ...   ...\n",
       "78           Midway City     1\n",
       "79       Avocado Heights     1\n",
       "80                Vernon     1\n",
       "81  South San Jose Hills     1\n",
       "82              Monrovia     1\n",
       "\n",
       "[83 rows x 2 columns]"
      ]
     },
     "execution_count": 44,
     "metadata": {},
     "output_type": "execute_result"
    }
   ],
   "source": [
    "city_count = city_count.reset_index()\n",
    "city_count"
   ]
  },
  {
   "cell_type": "markdown",
   "id": "f255652d-e09f-4a80-bb39-b34d6c723619",
   "metadata": {},
   "source": [
    "Renaming columns to make them easier to understand "
   ]
  },
  {
   "cell_type": "code",
   "execution_count": 47,
   "id": "dfaf926d-7f19-4d9b-baeb-21a1e50cf054",
   "metadata": {},
   "outputs": [],
   "source": [
    "city_count.columns = ['City', 'count']"
   ]
  },
  {
   "cell_type": "code",
   "execution_count": 48,
   "id": "5d738428-5749-4e37-be83-762dc4e48599",
   "metadata": {},
   "outputs": [
    {
     "data": {
      "text/html": [
       "<div>\n",
       "<style scoped>\n",
       "    .dataframe tbody tr th:only-of-type {\n",
       "        vertical-align: middle;\n",
       "    }\n",
       "\n",
       "    .dataframe tbody tr th {\n",
       "        vertical-align: top;\n",
       "    }\n",
       "\n",
       "    .dataframe thead th {\n",
       "        text-align: right;\n",
       "    }\n",
       "</style>\n",
       "<table border=\"1\" class=\"dataframe\">\n",
       "  <thead>\n",
       "    <tr style=\"text-align: right;\">\n",
       "      <th></th>\n",
       "      <th>City</th>\n",
       "      <th>count</th>\n",
       "    </tr>\n",
       "  </thead>\n",
       "  <tbody>\n",
       "    <tr>\n",
       "      <th>0</th>\n",
       "      <td>Los Angeles</td>\n",
       "      <td>545</td>\n",
       "    </tr>\n",
       "    <tr>\n",
       "      <th>1</th>\n",
       "      <td>Long Beach</td>\n",
       "      <td>60</td>\n",
       "    </tr>\n",
       "    <tr>\n",
       "      <th>2</th>\n",
       "      <td>East Los Angeles</td>\n",
       "      <td>28</td>\n",
       "    </tr>\n",
       "    <tr>\n",
       "      <th>3</th>\n",
       "      <td>El Monte</td>\n",
       "      <td>25</td>\n",
       "    </tr>\n",
       "    <tr>\n",
       "      <th>4</th>\n",
       "      <td>Glendale</td>\n",
       "      <td>23</td>\n",
       "    </tr>\n",
       "    <tr>\n",
       "      <th>...</th>\n",
       "      <td>...</td>\n",
       "      <td>...</td>\n",
       "    </tr>\n",
       "    <tr>\n",
       "      <th>78</th>\n",
       "      <td>Midway City</td>\n",
       "      <td>1</td>\n",
       "    </tr>\n",
       "    <tr>\n",
       "      <th>79</th>\n",
       "      <td>Avocado Heights</td>\n",
       "      <td>1</td>\n",
       "    </tr>\n",
       "    <tr>\n",
       "      <th>80</th>\n",
       "      <td>Vernon</td>\n",
       "      <td>1</td>\n",
       "    </tr>\n",
       "    <tr>\n",
       "      <th>81</th>\n",
       "      <td>South San Jose Hills</td>\n",
       "      <td>1</td>\n",
       "    </tr>\n",
       "    <tr>\n",
       "      <th>82</th>\n",
       "      <td>Monrovia</td>\n",
       "      <td>1</td>\n",
       "    </tr>\n",
       "  </tbody>\n",
       "</table>\n",
       "<p>83 rows × 2 columns</p>\n",
       "</div>"
      ],
      "text/plain": [
       "                    City  count\n",
       "0            Los Angeles    545\n",
       "1             Long Beach     60\n",
       "2       East Los Angeles     28\n",
       "3               El Monte     25\n",
       "4               Glendale     23\n",
       "..                   ...    ...\n",
       "78           Midway City      1\n",
       "79       Avocado Heights      1\n",
       "80                Vernon      1\n",
       "81  South San Jose Hills      1\n",
       "82              Monrovia      1\n",
       "\n",
       "[83 rows x 2 columns]"
      ]
     },
     "execution_count": 48,
     "metadata": {},
     "output_type": "execute_result"
    }
   ],
   "source": [
    "city_count"
   ]
  },
  {
   "cell_type": "markdown",
   "id": "72d5156c-84ed-4486-a36d-db9896af8218",
   "metadata": {},
   "source": [
    "Used the .plot.bar command to make a graph that shows the number of census tracts per city in the county. Not super helpful because there are so many cities! "
   ]
  },
  {
   "cell_type": "code",
   "execution_count": 52,
   "id": "65fbc8e7-c76c-4c04-bc34-ca3a05cf6184",
   "metadata": {},
   "outputs": [
    {
     "data": {
      "text/plain": [
       "<AxesSubplot: title={'center': 'Number of census tracts per city'}, xlabel='City'>"
      ]
     },
     "execution_count": 52,
     "metadata": {},
     "output_type": "execute_result"
    },
    {
     "data": {
      "image/png": "[encoded data removed]",
      "text/plain": [
       "<Figure size 640x480 with 1 Axes>"
      ]
     },
     "metadata": {},
     "output_type": "display_data"
    }
   ],
   "source": [
    "city_count.plot.bar(x = 'City', y = 'count', title = 'Number of census tracts per city')"
   ]
  },
  {
   "cell_type": "markdown",
   "id": "a80f6d1d-fe96-43b5-8f52-42f002ba7c2b",
   "metadata": {},
   "source": [
    "Using the .head command I filtered for the first five rows, in this case the cities with the most census tracts, to make a more helpful bar graph. "
   ]
  },
  {
   "cell_type": "code",
   "execution_count": 54,
   "id": "bb8b4385-27be-441f-97f0-7cedc3f5bd92",
   "metadata": {},
   "outputs": [
    {
     "data": {
      "text/html": [
       "<div>\n",
       "<style scoped>\n",
       "    .dataframe tbody tr th:only-of-type {\n",
       "        vertical-align: middle;\n",
       "    }\n",
       "\n",
       "    .dataframe tbody tr th {\n",
       "        vertical-align: top;\n",
       "    }\n",
       "\n",
       "    .dataframe thead th {\n",
       "        text-align: right;\n",
       "    }\n",
       "</style>\n",
       "<table border=\"1\" class=\"dataframe\">\n",
       "  <thead>\n",
       "    <tr style=\"text-align: right;\">\n",
       "      <th></th>\n",
       "      <th>City</th>\n",
       "      <th>count</th>\n",
       "    </tr>\n",
       "  </thead>\n",
       "  <tbody>\n",
       "    <tr>\n",
       "      <th>0</th>\n",
       "      <td>Los Angeles</td>\n",
       "      <td>545</td>\n",
       "    </tr>\n",
       "    <tr>\n",
       "      <th>1</th>\n",
       "      <td>Long Beach</td>\n",
       "      <td>60</td>\n",
       "    </tr>\n",
       "    <tr>\n",
       "      <th>2</th>\n",
       "      <td>East Los Angeles</td>\n",
       "      <td>28</td>\n",
       "    </tr>\n",
       "    <tr>\n",
       "      <th>3</th>\n",
       "      <td>El Monte</td>\n",
       "      <td>25</td>\n",
       "    </tr>\n",
       "    <tr>\n",
       "      <th>4</th>\n",
       "      <td>Glendale</td>\n",
       "      <td>23</td>\n",
       "    </tr>\n",
       "  </tbody>\n",
       "</table>\n",
       "</div>"
      ],
      "text/plain": [
       "               City  count\n",
       "0       Los Angeles    545\n",
       "1        Long Beach     60\n",
       "2  East Los Angeles     28\n",
       "3          El Monte     25\n",
       "4          Glendale     23"
      ]
     },
     "execution_count": 54,
     "metadata": {},
     "output_type": "execute_result"
    }
   ],
   "source": [
    "city_count.head()"
   ]
  },
  {
   "cell_type": "code",
   "execution_count": 55,
   "id": "888b4feb-e416-4c2a-b2cc-99c84834d103",
   "metadata": {},
   "outputs": [
    {
     "data": {
      "text/html": [
       "<div>\n",
       "<style scoped>\n",
       "    .dataframe tbody tr th:only-of-type {\n",
       "        vertical-align: middle;\n",
       "    }\n",
       "\n",
       "    .dataframe tbody tr th {\n",
       "        vertical-align: top;\n",
       "    }\n",
       "\n",
       "    .dataframe thead th {\n",
       "        text-align: right;\n",
       "    }\n",
       "</style>\n",
       "<table border=\"1\" class=\"dataframe\">\n",
       "  <thead>\n",
       "    <tr style=\"text-align: right;\">\n",
       "      <th></th>\n",
       "      <th>City</th>\n",
       "      <th>count</th>\n",
       "    </tr>\n",
       "  </thead>\n",
       "  <tbody>\n",
       "    <tr>\n",
       "      <th>0</th>\n",
       "      <td>Los Angeles</td>\n",
       "      <td>545</td>\n",
       "    </tr>\n",
       "    <tr>\n",
       "      <th>1</th>\n",
       "      <td>Long Beach</td>\n",
       "      <td>60</td>\n",
       "    </tr>\n",
       "    <tr>\n",
       "      <th>2</th>\n",
       "      <td>East Los Angeles</td>\n",
       "      <td>28</td>\n",
       "    </tr>\n",
       "    <tr>\n",
       "      <th>3</th>\n",
       "      <td>El Monte</td>\n",
       "      <td>25</td>\n",
       "    </tr>\n",
       "    <tr>\n",
       "      <th>4</th>\n",
       "      <td>Glendale</td>\n",
       "      <td>23</td>\n",
       "    </tr>\n",
       "  </tbody>\n",
       "</table>\n",
       "</div>"
      ],
      "text/plain": [
       "               City  count\n",
       "0       Los Angeles    545\n",
       "1        Long Beach     60\n",
       "2  East Los Angeles     28\n",
       "3          El Monte     25\n",
       "4          Glendale     23"
      ]
     },
     "execution_count": 55,
     "metadata": {},
     "output_type": "execute_result"
    }
   ],
   "source": [
    "city_count2 = city_count.head()\n",
    "city_count2"
   ]
  },
  {
   "cell_type": "code",
   "execution_count": 57,
   "id": "3fc2eb75-0456-4a28-8b3b-56cbbdb0b8d4",
   "metadata": {},
   "outputs": [
    {
     "data": {
      "text/plain": [
       "<AxesSubplot: title={'center': 'Number of census tracts per city'}, xlabel='City'>"
      ]
     },
     "execution_count": 57,
     "metadata": {},
     "output_type": "execute_result"
    },
    {
     "data": {
      "image/png": "[encoded data removed]",
      "text/plain": [
       "<Figure size 640x480 with 1 Axes>"
      ]
     },
     "metadata": {},
     "output_type": "display_data"
    }
   ],
   "source": [
    "city_count2.plot.bar(x = 'City', y = 'count', title = 'Number of census tracts per city')"
   ]
  },
  {
   "cell_type": "code",
   "execution_count": null,
   "id": "68c93b4b-3eb9-41f0-813a-70d8d1116cc0",
   "metadata": {},
   "outputs": [],
   "source": []
  }
 ],
 "metadata": {
  "kernelspec": {
   "display_name": "Python 3 (ipykernel)",
   "language": "python",
   "name": "python3"
  },
  "language_info": {
   "codemirror_mode": {
    "name": "ipython",
    "version": 3
   },
   "file_extension": ".py",
   "mimetype": "text/x-python",
   "name": "python",
   "nbconvert_exporter": "python",
   "pygments_lexer": "ipython3",
   "version": "3.10.8"
  }
 },
 "nbformat": 4,
 "nbformat_minor": 5
}
